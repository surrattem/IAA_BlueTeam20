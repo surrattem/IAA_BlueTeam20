{
 "cells": [
  {
   "cell_type": "code",
   "execution_count": 40,
   "id": "21590709",
   "metadata": {},
   "outputs": [],
   "source": [
    "import pandas as pd\n",
    "import seaborn as sns\n",
    "from statsmodels.tsa.seasonal import STL\n",
    "from statsmodels.tsa.stattools import adfuller\n",
    "import statsmodels.api as sm\n",
    "from statsmodels.tsa.stattools import kpss\n",
    "%matplotlib inline\n",
    "import matplotlib.pyplot as plt\n",
    "from scipy import stats\n",
    "from statsmodels.tsa.arima.model import ARIMA\n",
    "import numpy as np\n",
    "import pmdarima as pm\n",
    "\n"
   ]
  },
  {
   "cell_type": "code",
   "execution_count": 8,
   "id": "8d028134",
   "metadata": {},
   "outputs": [],
   "source": [
    "# https://www.statsmodels.org/dev/examples/notebooks/generated/stationarity_detrending_adf_kpss.html\n",
    "\n",
    "def kpss_test(timeseries):\n",
    "    print(\"Results of KPSS Test:\")\n",
    "    kpsstest = kpss(timeseries, regression=\"c\", nlags=\"auto\")\n",
    "    kpss_output = pd.Series(\n",
    "        kpsstest[0:3], index=[\"Test Statistic\", \"p-value\", \"Lags Used\"]\n",
    "    )\n",
    "    for key, value in kpsstest[3].items():\n",
    "        kpss_output[\"Critical Value (%s)\" % key] = value\n",
    "    print(kpss_output)"
   ]
  },
  {
   "cell_type": "code",
   "execution_count": 5,
   "id": "6dc17e68",
   "metadata": {},
   "outputs": [],
   "source": [
    "# https://www.statsmodels.org/dev/examples/notebooks/generated/stationarity_detrending_adf_kpss.html\n",
    "\n",
    "def adf_test(timeseries):\n",
    "    print(\"Results of Dickey-Fuller Test:\")\n",
    "    dftest = adfuller(timeseries, autolag=\"AIC\")\n",
    "    dfoutput = pd.Series(\n",
    "        dftest[0:4],\n",
    "        index=[\n",
    "            \"Test Statistic\",\n",
    "            \"p-value\",\n",
    "            \"#Lags Used\",\n",
    "            \"Number of Observations Used\",\n",
    "        ],\n",
    "    )\n",
    "    for key, value in dftest[4].items():\n",
    "        dfoutput[\"Critical Value (%s)\" % key] = value\n",
    "    print(dfoutput)"
   ]
  },
  {
   "cell_type": "raw",
   "id": "bdf67069",
   "metadata": {},
   "source": [
    "df = pd.read_csv(\"data/county_market_tracker.csv\")"
   ]
  },
  {
   "cell_type": "code",
   "execution_count": 2,
   "id": "4c89077c",
   "metadata": {},
   "outputs": [],
   "source": [
    "train = pd.read_csv(\"train.csv\")"
   ]
  },
  {
   "cell_type": "code",
   "execution_count": 5,
   "id": "05005e5a",
   "metadata": {},
   "outputs": [
    {
     "data": {
      "text/plain": [
       "<bound method IndexOpsMixin.tolist of Index(['period_begin', 'period_end', 'period_duration', 'region_type',\n",
       "       'region_type_id', 'table_id', 'is_seasonally_adjusted', 'region',\n",
       "       'city', 'state', 'state_code', 'property_type', 'property_type_id',\n",
       "       'median_sale_price', 'median_sale_price_mom', 'median_sale_price_yoy',\n",
       "       'median_list_price', 'median_list_price_mom', 'median_list_price_yoy',\n",
       "       'median_ppsf', 'median_ppsf_mom', 'median_ppsf_yoy', 'median_list_ppsf',\n",
       "       'median_list_ppsf_mom', 'median_list_ppsf_yoy', 'homes_sold',\n",
       "       'homes_sold_mom', 'homes_sold_yoy', 'pending_sales',\n",
       "       'pending_sales_mom', 'pending_sales_yoy', 'new_listings',\n",
       "       'new_listings_mom', 'new_listings_yoy', 'inventory', 'inventory_mom',\n",
       "       'inventory_yoy', 'months_of_supply', 'months_of_supply_mom',\n",
       "       'months_of_supply_yoy', 'median_dom', 'median_dom_mom',\n",
       "       'median_dom_yoy', 'avg_sale_to_list', 'avg_sale_to_list_mom',\n",
       "       'avg_sale_to_list_yoy', 'sold_above_list', 'sold_above_list_mom',\n",
       "       'sold_above_list_yoy', 'price_drops', 'price_drops_mom',\n",
       "       'price_drops_yoy', 'off_market_in_two_weeks',\n",
       "       'off_market_in_two_weeks_mom', 'off_market_in_two_weeks_yoy',\n",
       "       'parent_metro_region', 'parent_metro_region_metro_code',\n",
       "       'last_updated'],\n",
       "      dtype='object')>"
      ]
     },
     "execution_count": 5,
     "metadata": {},
     "output_type": "execute_result"
    }
   ],
   "source": [
    "df.columns.to_list"
   ]
  },
  {
   "cell_type": "code",
   "execution_count": 23,
   "id": "5c5f05e4",
   "metadata": {},
   "outputs": [],
   "source": [
    "# df[df['state'] =='NC'].region.unique()\n",
    "df['state'].str.contains('North Ca').sum()\n",
    "# select Durham county in NC\n",
    "durham_nc = df[((df['state'].str.contains('North Ca')) &( df['region'].str.contains('Durham')))]"
   ]
  },
  {
   "cell_type": "code",
   "execution_count": 120,
   "id": "b5e8a91d",
   "metadata": {},
   "outputs": [
    {
     "data": {
      "text/plain": [
       "497324    127.0\n",
       "674417    329.0\n",
       "694916    489.0\n",
       "750381     26.0\n",
       "791994      7.0\n",
       "Name: homes_sold, dtype: float64"
      ]
     },
     "execution_count": 120,
     "metadata": {},
     "output_type": "execute_result"
    }
   ],
   "source": [
    "durham_nc.period_begin.nunique()\n",
    "# 132 dates\n",
    "durham_nc[durham_nc.period_begin=='12/1/2019'].homes_sold"
   ]
  },
  {
   "cell_type": "code",
   "execution_count": 29,
   "id": "2af4f2fd",
   "metadata": {},
   "outputs": [
    {
     "data": {
      "text/plain": [
       "198818    1/1/2016\n",
       "246931    2/1/2013\n",
       "248475    9/1/2016\n",
       "253763    8/1/2018\n",
       "264010    7/1/2017\n",
       "Name: period_begin, dtype: object"
      ]
     },
     "execution_count": 29,
     "metadata": {},
     "output_type": "execute_result"
    }
   ],
   "source": [
    "durham_nc.period_begin.head()"
   ]
  },
  {
   "cell_type": "code",
   "execution_count": 32,
   "id": "8ab35f6c",
   "metadata": {},
   "outputs": [
    {
     "name": "stderr",
     "output_type": "stream",
     "text": [
      "C:\\Users\\zodia\\AppData\\Local\\Temp\\ipykernel_14912\\50379323.py:1: SettingWithCopyWarning: \n",
      "A value is trying to be set on a copy of a slice from a DataFrame.\n",
      "Try using .loc[row_indexer,col_indexer] = value instead\n",
      "\n",
      "See the caveats in the documentation: https://pandas.pydata.org/pandas-docs/stable/user_guide/indexing.html#returning-a-view-versus-a-copy\n",
      "  durham_nc['date'] = pd.to_datetime(durham_nc['period_begin'])\n"
     ]
    }
   ],
   "source": [
    "\n",
    "durham_nc['date'] = pd.to_datetime(durham_nc['period_begin'])"
   ]
  },
  {
   "cell_type": "code",
   "execution_count": 37,
   "id": "d85d80f5",
   "metadata": {},
   "outputs": [
    {
     "data": {
      "text/html": [
       "<div>\n",
       "<style scoped>\n",
       "    .dataframe tbody tr th:only-of-type {\n",
       "        vertical-align: middle;\n",
       "    }\n",
       "\n",
       "    .dataframe tbody tr th {\n",
       "        vertical-align: top;\n",
       "    }\n",
       "\n",
       "    .dataframe thead th {\n",
       "        text-align: right;\n",
       "    }\n",
       "</style>\n",
       "<table border=\"1\" class=\"dataframe\">\n",
       "  <thead>\n",
       "    <tr style=\"text-align: right;\">\n",
       "      <th></th>\n",
       "      <th>period_begin</th>\n",
       "      <th>period_end</th>\n",
       "      <th>period_duration</th>\n",
       "      <th>region_type</th>\n",
       "      <th>region_type_id</th>\n",
       "      <th>table_id</th>\n",
       "      <th>is_seasonally_adjusted</th>\n",
       "      <th>region</th>\n",
       "      <th>city</th>\n",
       "      <th>state</th>\n",
       "      <th>...</th>\n",
       "      <th>price_drops</th>\n",
       "      <th>price_drops_mom</th>\n",
       "      <th>price_drops_yoy</th>\n",
       "      <th>off_market_in_two_weeks</th>\n",
       "      <th>off_market_in_two_weeks_mom</th>\n",
       "      <th>off_market_in_two_weeks_yoy</th>\n",
       "      <th>parent_metro_region</th>\n",
       "      <th>parent_metro_region_metro_code</th>\n",
       "      <th>last_updated</th>\n",
       "      <th>date</th>\n",
       "    </tr>\n",
       "  </thead>\n",
       "  <tbody>\n",
       "    <tr>\n",
       "      <th>756500</th>\n",
       "      <td>12/1/2022</td>\n",
       "      <td>12/31/2022</td>\n",
       "      <td>30</td>\n",
       "      <td>county</td>\n",
       "      <td>5</td>\n",
       "      <td>2038</td>\n",
       "      <td>f</td>\n",
       "      <td>Durham County, NC</td>\n",
       "      <td>NaN</td>\n",
       "      <td>North Carolina</td>\n",
       "      <td>...</td>\n",
       "      <td>0.267516</td>\n",
       "      <td>-0.142919</td>\n",
       "      <td>0.122397</td>\n",
       "      <td>0.215116</td>\n",
       "      <td>-0.004884</td>\n",
       "      <td>-0.050117</td>\n",
       "      <td>Durham, NC</td>\n",
       "      <td>20500.0</td>\n",
       "      <td>1/15/2023 14:45</td>\n",
       "      <td>2022-12-01</td>\n",
       "    </tr>\n",
       "    <tr>\n",
       "      <th>665883</th>\n",
       "      <td>12/1/2022</td>\n",
       "      <td>12/31/2022</td>\n",
       "      <td>30</td>\n",
       "      <td>county</td>\n",
       "      <td>5</td>\n",
       "      <td>2038</td>\n",
       "      <td>f</td>\n",
       "      <td>Durham County, NC</td>\n",
       "      <td>NaN</td>\n",
       "      <td>North Carolina</td>\n",
       "      <td>...</td>\n",
       "      <td>NaN</td>\n",
       "      <td>NaN</td>\n",
       "      <td>NaN</td>\n",
       "      <td>0.000000</td>\n",
       "      <td>0.000000</td>\n",
       "      <td>0.000000</td>\n",
       "      <td>Durham, NC</td>\n",
       "      <td>20500.0</td>\n",
       "      <td>1/15/2023 14:45</td>\n",
       "      <td>2022-12-01</td>\n",
       "    </tr>\n",
       "    <tr>\n",
       "      <th>496061</th>\n",
       "      <td>12/1/2022</td>\n",
       "      <td>12/31/2022</td>\n",
       "      <td>30</td>\n",
       "      <td>county</td>\n",
       "      <td>5</td>\n",
       "      <td>2038</td>\n",
       "      <td>f</td>\n",
       "      <td>Durham County, NC</td>\n",
       "      <td>NaN</td>\n",
       "      <td>North Carolina</td>\n",
       "      <td>...</td>\n",
       "      <td>0.335938</td>\n",
       "      <td>-0.118608</td>\n",
       "      <td>0.282996</td>\n",
       "      <td>0.156863</td>\n",
       "      <td>0.027233</td>\n",
       "      <td>-0.348292</td>\n",
       "      <td>Durham, NC</td>\n",
       "      <td>20500.0</td>\n",
       "      <td>1/15/2023 14:45</td>\n",
       "      <td>2022-12-01</td>\n",
       "    </tr>\n",
       "    <tr>\n",
       "      <th>757257</th>\n",
       "      <td>12/1/2022</td>\n",
       "      <td>12/31/2022</td>\n",
       "      <td>30</td>\n",
       "      <td>county</td>\n",
       "      <td>5</td>\n",
       "      <td>2038</td>\n",
       "      <td>f</td>\n",
       "      <td>Durham County, NC</td>\n",
       "      <td>NaN</td>\n",
       "      <td>North Carolina</td>\n",
       "      <td>...</td>\n",
       "      <td>0.275200</td>\n",
       "      <td>-0.133712</td>\n",
       "      <td>0.173796</td>\n",
       "      <td>0.206897</td>\n",
       "      <td>0.012240</td>\n",
       "      <td>-0.114622</td>\n",
       "      <td>Durham, NC</td>\n",
       "      <td>20500.0</td>\n",
       "      <td>1/15/2023 14:45</td>\n",
       "      <td>2022-12-01</td>\n",
       "    </tr>\n",
       "    <tr>\n",
       "      <th>607004</th>\n",
       "      <td>12/1/2022</td>\n",
       "      <td>12/31/2022</td>\n",
       "      <td>30</td>\n",
       "      <td>county</td>\n",
       "      <td>5</td>\n",
       "      <td>2038</td>\n",
       "      <td>f</td>\n",
       "      <td>Durham County, NC</td>\n",
       "      <td>NaN</td>\n",
       "      <td>North Carolina</td>\n",
       "      <td>...</td>\n",
       "      <td>0.136364</td>\n",
       "      <td>0.003030</td>\n",
       "      <td>0.124459</td>\n",
       "      <td>0.375000</td>\n",
       "      <td>0.375000</td>\n",
       "      <td>0.108333</td>\n",
       "      <td>Durham, NC</td>\n",
       "      <td>20500.0</td>\n",
       "      <td>1/15/2023 14:45</td>\n",
       "      <td>2022-12-01</td>\n",
       "    </tr>\n",
       "  </tbody>\n",
       "</table>\n",
       "<p>5 rows × 59 columns</p>\n",
       "</div>"
      ],
      "text/plain": [
       "       period_begin  period_end  period_duration region_type  region_type_id  \\\n",
       "756500    12/1/2022  12/31/2022               30      county               5   \n",
       "665883    12/1/2022  12/31/2022               30      county               5   \n",
       "496061    12/1/2022  12/31/2022               30      county               5   \n",
       "757257    12/1/2022  12/31/2022               30      county               5   \n",
       "607004    12/1/2022  12/31/2022               30      county               5   \n",
       "\n",
       "        table_id is_seasonally_adjusted             region  city  \\\n",
       "756500      2038                      f  Durham County, NC   NaN   \n",
       "665883      2038                      f  Durham County, NC   NaN   \n",
       "496061      2038                      f  Durham County, NC   NaN   \n",
       "757257      2038                      f  Durham County, NC   NaN   \n",
       "607004      2038                      f  Durham County, NC   NaN   \n",
       "\n",
       "                 state  ... price_drops price_drops_mom  price_drops_yoy  \\\n",
       "756500  North Carolina  ...    0.267516       -0.142919         0.122397   \n",
       "665883  North Carolina  ...         NaN             NaN              NaN   \n",
       "496061  North Carolina  ...    0.335938       -0.118608         0.282996   \n",
       "757257  North Carolina  ...    0.275200       -0.133712         0.173796   \n",
       "607004  North Carolina  ...    0.136364        0.003030         0.124459   \n",
       "\n",
       "        off_market_in_two_weeks  off_market_in_two_weeks_mom  \\\n",
       "756500                 0.215116                    -0.004884   \n",
       "665883                 0.000000                     0.000000   \n",
       "496061                 0.156863                     0.027233   \n",
       "757257                 0.206897                     0.012240   \n",
       "607004                 0.375000                     0.375000   \n",
       "\n",
       "        off_market_in_two_weeks_yoy  parent_metro_region  \\\n",
       "756500                    -0.050117           Durham, NC   \n",
       "665883                     0.000000           Durham, NC   \n",
       "496061                    -0.348292           Durham, NC   \n",
       "757257                    -0.114622           Durham, NC   \n",
       "607004                     0.108333           Durham, NC   \n",
       "\n",
       "        parent_metro_region_metro_code     last_updated       date  \n",
       "756500                         20500.0  1/15/2023 14:45 2022-12-01  \n",
       "665883                         20500.0  1/15/2023 14:45 2022-12-01  \n",
       "496061                         20500.0  1/15/2023 14:45 2022-12-01  \n",
       "757257                         20500.0  1/15/2023 14:45 2022-12-01  \n",
       "607004                         20500.0  1/15/2023 14:45 2022-12-01  \n",
       "\n",
       "[5 rows x 59 columns]"
      ]
     },
     "execution_count": 37,
     "metadata": {},
     "output_type": "execute_result"
    }
   ],
   "source": [
    "durham_nc.sort_values('date').tail()"
   ]
  },
  {
   "cell_type": "code",
   "execution_count": 38,
   "id": "e0ada50e",
   "metadata": {},
   "outputs": [
    {
     "data": {
      "text/plain": [
       "array(['Multi-Family (2-4 Unit)', 'All Residential', 'Condo/Co-op',\n",
       "       'Townhouse', 'Single Family Residential'], dtype=object)"
      ]
     },
     "execution_count": 38,
     "metadata": {},
     "output_type": "execute_result"
    }
   ],
   "source": [
    "durham_nc.property_type.unique()"
   ]
  },
  {
   "cell_type": "code",
   "execution_count": 104,
   "id": "746024fd",
   "metadata": {},
   "outputs": [],
   "source": [
    "durham_condos = durham_nc[durham_nc['property_type'] == 'Condo/Co-op' ][['date', 'median_sale_price', 'homes_sold']]"
   ]
  },
  {
   "cell_type": "code",
   "execution_count": 105,
   "id": "5dbceaf5",
   "metadata": {},
   "outputs": [
    {
     "name": "stdout",
     "output_type": "stream",
     "text": [
      "<class 'pandas.core.frame.DataFrame'>\n",
      "Int64Index: 132 entries, 253763 to 794762\n",
      "Data columns (total 3 columns):\n",
      " #   Column             Non-Null Count  Dtype         \n",
      "---  ------             --------------  -----         \n",
      " 0   date               132 non-null    datetime64[ns]\n",
      " 1   median_sale_price  132 non-null    float64       \n",
      " 2   homes_sold         132 non-null    float64       \n",
      "dtypes: datetime64[ns](1), float64(2)\n",
      "memory usage: 4.1 KB\n"
     ]
    }
   ],
   "source": [
    "durham_condos.info()"
   ]
  },
  {
   "cell_type": "code",
   "execution_count": 106,
   "id": "0214773d",
   "metadata": {},
   "outputs": [],
   "source": [
    "durham_condos = durham_condos.sort_values('date')"
   ]
  },
  {
   "cell_type": "code",
   "execution_count": 107,
   "id": "766e69c1",
   "metadata": {},
   "outputs": [
    {
     "data": {
      "text/plain": [
       "674886   2022-08-01\n",
       "790449   2022-09-01\n",
       "707542   2022-10-01\n",
       "611205   2022-11-01\n",
       "607004   2022-12-01\n",
       "Name: date, dtype: datetime64[ns]"
      ]
     },
     "execution_count": 107,
     "metadata": {},
     "output_type": "execute_result"
    }
   ],
   "source": [
    "durham_condos.date.tail()"
   ]
  },
  {
   "cell_type": "code",
   "execution_count": 108,
   "id": "21cbc9d9",
   "metadata": {},
   "outputs": [],
   "source": [
    "durham_condos=durham_condos.set_index('date')# set date as the index. \n"
   ]
  },
  {
   "cell_type": "code",
   "execution_count": 109,
   "id": "147713fd",
   "metadata": {},
   "outputs": [
    {
     "data": {
      "text/html": [
       "<div>\n",
       "<style scoped>\n",
       "    .dataframe tbody tr th:only-of-type {\n",
       "        vertical-align: middle;\n",
       "    }\n",
       "\n",
       "    .dataframe tbody tr th {\n",
       "        vertical-align: top;\n",
       "    }\n",
       "\n",
       "    .dataframe thead th {\n",
       "        text-align: right;\n",
       "    }\n",
       "</style>\n",
       "<table border=\"1\" class=\"dataframe\">\n",
       "  <thead>\n",
       "    <tr style=\"text-align: right;\">\n",
       "      <th></th>\n",
       "      <th>median_sale_price</th>\n",
       "      <th>homes_sold</th>\n",
       "    </tr>\n",
       "    <tr>\n",
       "      <th>date</th>\n",
       "      <th></th>\n",
       "      <th></th>\n",
       "    </tr>\n",
       "  </thead>\n",
       "  <tbody>\n",
       "    <tr>\n",
       "      <th>2012-01-01</th>\n",
       "      <td>165000.0</td>\n",
       "      <td>3.0</td>\n",
       "    </tr>\n",
       "    <tr>\n",
       "      <th>2012-02-01</th>\n",
       "      <td>105000.0</td>\n",
       "      <td>9.0</td>\n",
       "    </tr>\n",
       "    <tr>\n",
       "      <th>2012-03-01</th>\n",
       "      <td>153450.0</td>\n",
       "      <td>8.0</td>\n",
       "    </tr>\n",
       "    <tr>\n",
       "      <th>2012-04-01</th>\n",
       "      <td>139900.0</td>\n",
       "      <td>6.0</td>\n",
       "    </tr>\n",
       "    <tr>\n",
       "      <th>2012-05-01</th>\n",
       "      <td>137450.0</td>\n",
       "      <td>14.0</td>\n",
       "    </tr>\n",
       "  </tbody>\n",
       "</table>\n",
       "</div>"
      ],
      "text/plain": [
       "            median_sale_price  homes_sold\n",
       "date                                     \n",
       "2012-01-01           165000.0         3.0\n",
       "2012-02-01           105000.0         9.0\n",
       "2012-03-01           153450.0         8.0\n",
       "2012-04-01           139900.0         6.0\n",
       "2012-05-01           137450.0        14.0"
      ]
     },
     "execution_count": 109,
     "metadata": {},
     "output_type": "execute_result"
    }
   ],
   "source": []
  },
  {
   "cell_type": "code",
   "execution_count": 95,
   "id": "7182c317",
   "metadata": {},
   "outputs": [],
   "source": []
  },
  {
   "cell_type": "code",
   "execution_count": 114,
   "id": "fcdf327f",
   "metadata": {},
   "outputs": [
    {
     "data": {
      "text/plain": [
       "<AxesSubplot:xlabel='date', ylabel='median_sale_price'>"
      ]
     },
     "execution_count": 114,
     "metadata": {},
     "output_type": "execute_result"
    },
    {
     "data": {
      "image/png": "[encoded data removed]",
      "text/plain": [
       "<Figure size 432x288 with 1 Axes>"
      ]
     },
     "metadata": {
      "needs_background": "light"
     },
     "output_type": "display_data"
    }
   ],
   "source": [
    "sns.lineplot(data = durham_condos, x='date', y='median_sale_price')\n"
   ]
  },
  {
   "cell_type": "code",
   "execution_count": 112,
   "id": "f99ab6d4",
   "metadata": {},
   "outputs": [
    {
     "data": {
      "text/plain": [
       "<AxesSubplot:xlabel='date', ylabel='homes_sold'>"
      ]
     },
     "execution_count": 112,
     "metadata": {},
     "output_type": "execute_result"
    },
    {
     "data": {
      "image/png": "[encoded data removed]",
      "text/plain": [
       "<Figure size 432x288 with 1 Axes>"
      ]
     },
     "metadata": {
      "needs_background": "light"
     },
     "output_type": "display_data"
    }
   ],
   "source": [
    "sns.lineplot(data = durham_condos, x='date', y='homes_sold')\n"
   ]
  },
  {
   "cell_type": "code",
   "execution_count": 115,
   "id": "dfc2977c",
   "metadata": {},
   "outputs": [
    {
     "data": {
      "text/html": [
       "<div>\n",
       "<style scoped>\n",
       "    .dataframe tbody tr th:only-of-type {\n",
       "        vertical-align: middle;\n",
       "    }\n",
       "\n",
       "    .dataframe tbody tr th {\n",
       "        vertical-align: top;\n",
       "    }\n",
       "\n",
       "    .dataframe thead th {\n",
       "        text-align: right;\n",
       "    }\n",
       "</style>\n",
       "<table border=\"1\" class=\"dataframe\">\n",
       "  <thead>\n",
       "    <tr style=\"text-align: right;\">\n",
       "      <th></th>\n",
       "      <th>median_sale_price</th>\n",
       "      <th>homes_sold</th>\n",
       "    </tr>\n",
       "    <tr>\n",
       "      <th>date</th>\n",
       "      <th></th>\n",
       "      <th></th>\n",
       "    </tr>\n",
       "  </thead>\n",
       "  <tbody>\n",
       "    <tr>\n",
       "      <th>2015-12-01</th>\n",
       "      <td>430000.0</td>\n",
       "      <td>13.0</td>\n",
       "    </tr>\n",
       "    <tr>\n",
       "      <th>2017-11-01</th>\n",
       "      <td>482500.0</td>\n",
       "      <td>18.0</td>\n",
       "    </tr>\n",
       "    <tr>\n",
       "      <th>2017-12-01</th>\n",
       "      <td>459336.5</td>\n",
       "      <td>30.0</td>\n",
       "    </tr>\n",
       "    <tr>\n",
       "      <th>2018-07-01</th>\n",
       "      <td>314728.0</td>\n",
       "      <td>27.0</td>\n",
       "    </tr>\n",
       "    <tr>\n",
       "      <th>2019-03-01</th>\n",
       "      <td>395841.5</td>\n",
       "      <td>32.0</td>\n",
       "    </tr>\n",
       "    <tr>\n",
       "      <th>2019-04-01</th>\n",
       "      <td>308500.0</td>\n",
       "      <td>18.0</td>\n",
       "    </tr>\n",
       "    <tr>\n",
       "      <th>2019-12-01</th>\n",
       "      <td>600390.0</td>\n",
       "      <td>26.0</td>\n",
       "    </tr>\n",
       "    <tr>\n",
       "      <th>2020-01-01</th>\n",
       "      <td>378208.5</td>\n",
       "      <td>24.0</td>\n",
       "    </tr>\n",
       "    <tr>\n",
       "      <th>2021-11-01</th>\n",
       "      <td>302900.0</td>\n",
       "      <td>19.0</td>\n",
       "    </tr>\n",
       "    <tr>\n",
       "      <th>2022-03-01</th>\n",
       "      <td>362000.0</td>\n",
       "      <td>15.0</td>\n",
       "    </tr>\n",
       "    <tr>\n",
       "      <th>2022-04-01</th>\n",
       "      <td>305250.0</td>\n",
       "      <td>10.0</td>\n",
       "    </tr>\n",
       "    <tr>\n",
       "      <th>2022-08-01</th>\n",
       "      <td>325000.0</td>\n",
       "      <td>9.0</td>\n",
       "    </tr>\n",
       "    <tr>\n",
       "      <th>2022-09-01</th>\n",
       "      <td>325750.0</td>\n",
       "      <td>8.0</td>\n",
       "    </tr>\n",
       "  </tbody>\n",
       "</table>\n",
       "</div>"
      ],
      "text/plain": [
       "            median_sale_price  homes_sold\n",
       "date                                     \n",
       "2015-12-01           430000.0        13.0\n",
       "2017-11-01           482500.0        18.0\n",
       "2017-12-01           459336.5        30.0\n",
       "2018-07-01           314728.0        27.0\n",
       "2019-03-01           395841.5        32.0\n",
       "2019-04-01           308500.0        18.0\n",
       "2019-12-01           600390.0        26.0\n",
       "2020-01-01           378208.5        24.0\n",
       "2021-11-01           302900.0        19.0\n",
       "2022-03-01           362000.0        15.0\n",
       "2022-04-01           305250.0        10.0\n",
       "2022-08-01           325000.0         9.0\n",
       "2022-09-01           325750.0         8.0"
      ]
     },
     "execution_count": 115,
     "metadata": {},
     "output_type": "execute_result"
    }
   ],
   "source": [
    "# what months are the ones with the big spikes?\n",
    "durham_condos[durham_condos.median_sale_price > 300000]"
   ]
  },
  {
   "cell_type": "code",
   "execution_count": 147,
   "id": "da4c1547",
   "metadata": {},
   "outputs": [],
   "source": []
  },
  {
   "cell_type": "code",
   "execution_count": 125,
   "id": "b413c2a1",
   "metadata": {},
   "outputs": [
    {
     "data": {
      "image/png": "[encoded data removed]",
      "text/plain": [
       "<Figure size 432x288 with 4 Axes>"
      ]
     },
     "metadata": {
      "needs_background": "light"
     },
     "output_type": "display_data"
    }
   ],
   "source": [
    "# do decomposition\n",
    "stl = STL(durham_condos.median_sale_price, seasonal=13, period=12)\n",
    "res = stl.fit()\n",
    "fig = res.plot()"
   ]
  },
  {
   "cell_type": "markdown",
   "id": "4c589d68",
   "metadata": {},
   "source": [
    "There is trend. and Seasonality. \n",
    "split into train/valid. 6 months each. "
   ]
  },
  {
   "cell_type": "code",
   "execution_count": 149,
   "id": "0caf45a8",
   "metadata": {},
   "outputs": [],
   "source": [
    "valid = durham_condos.tail(12)\n",
    "valid = valid[ :-6]\n",
    "test = durham_condos.tail(6)\n",
    "train = durham_condos[:-12]"
   ]
  },
  {
   "cell_type": "code",
   "execution_count": 150,
   "id": "9a79ded7",
   "metadata": {
    "scrolled": true
   },
   "outputs": [
    {
     "name": "stderr",
     "output_type": "stream",
     "text": [
      "C:\\Users\\zodia\\AppData\\Local\\Temp\\ipykernel_14912\\844228511.py:2: SettingWithCopyWarning: \n",
      "A value is trying to be set on a copy of a slice from a DataFrame.\n",
      "Try using .loc[row_indexer,col_indexer] = value instead\n",
      "\n",
      "See the caveats in the documentation: https://pandas.pydata.org/pandas-docs/stable/user_guide/indexing.html#returning-a-view-versus-a-copy\n",
      "  train['diff_data']=train.median_sale_price.diff(12)\n"
     ]
    }
   ],
   "source": [
    "# take seasonal differences\n",
    "train['diff_data']=train.median_sale_price.diff(12) "
   ]
  },
  {
   "cell_type": "code",
   "execution_count": 151,
   "id": "685e4811",
   "metadata": {},
   "outputs": [],
   "source": [
    "# drop the first 12 months now - which have no differences. \n",
    "# train[:12]\n",
    "train=train.tail(-12)"
   ]
  },
  {
   "cell_type": "code",
   "execution_count": 6,
   "id": "ccba37d1",
   "metadata": {},
   "outputs": [
    {
     "name": "stdout",
     "output_type": "stream",
     "text": [
      "Results of Dickey-Fuller Test:\n",
      "Test Statistic                -6.552821e+00\n",
      "p-value                        8.764328e-09\n",
      "#Lags Used                     1.100000e+01\n",
      "Number of Observations Used    9.600000e+01\n",
      "Critical Value (1%)           -3.500379e+00\n",
      "Critical Value (5%)           -2.892152e+00\n",
      "Critical Value (10%)          -2.583100e+00\n",
      "dtype: float64\n"
     ]
    },
    {
     "data": {
      "image/png": "[encoded data removed]",
      "text/plain": [
       "<Figure size 432x288 with 1 Axes>"
      ]
     },
     "metadata": {
      "needs_background": "light"
     },
     "output_type": "display_data"
    }
   ],
   "source": [
    "# do you have stationarity\n",
    "sns.lineplot(data = train, x='date', y='diff_data')\n",
    "# https://www.redfin.com/news/data-center/\n",
    "# null hypothesis is The series has a unit root.(aka the series is NOT stationary.)\n",
    "# this p value is small - you reject the null. you have some pattern left. \n",
    "\n",
    "adf_test(train.diff_data)"
   ]
  },
  {
   "cell_type": "code",
   "execution_count": 9,
   "id": "b2cc901a",
   "metadata": {},
   "outputs": [
    {
     "name": "stdout",
     "output_type": "stream",
     "text": [
      "Results of KPSS Test:\n",
      "Test Statistic           0.04299\n",
      "p-value                  0.10000\n",
      "Lags Used                3.00000\n",
      "Critical Value (10%)     0.34700\n",
      "Critical Value (5%)      0.46300\n",
      "Critical Value (2.5%)    0.57400\n",
      "Critical Value (1%)      0.73900\n",
      "dtype: float64\n"
     ]
    },
    {
     "name": "stderr",
     "output_type": "stream",
     "text": [
      "C:\\Users\\zodia\\anaconda3\\lib\\site-packages\\statsmodels\\tsa\\stattools.py:2022: InterpolationWarning: The test statistic is outside of the range of p-values available in the\n",
      "look-up table. The actual p-value is greater than the p-value returned.\n",
      "\n",
      "  warnings.warn(\n"
     ]
    }
   ],
   "source": [
    "# kpss test\n",
    "# Null Hypothesis: The process is trend stationary. # fail to reject. \n",
    "kpss_test(train.diff_data)"
   ]
  },
  {
   "cell_type": "raw",
   "id": "3ef93617",
   "metadata": {},
   "source": [
    "train.to_csv(\"train.csv\")\n",
    "valid.to_csv(\"valid.csv\")\n",
    "test.to_csv(\"test.csv\")"
   ]
  },
  {
   "cell_type": "code",
   "execution_count": 11,
   "id": "4f0e0f16",
   "metadata": {},
   "outputs": [
    {
     "name": "stderr",
     "output_type": "stream",
     "text": [
      "C:\\Users\\zodia\\anaconda3\\lib\\site-packages\\statsmodels\\graphics\\tsaplots.py:348: FutureWarning: The default method 'yw' can produce PACF values outside of the [-1,1] interval. After 0.13, the default will change tounadjusted Yule-Walker ('ywm'). You can use this method now by setting method='ywm'.\n",
      "  warnings.warn(\n"
     ]
    },
    {
     "data": {
      "image/png": "[encoded data removed]",
      "text/plain": [
       "<Figure size 864x576 with 2 Axes>"
      ]
     },
     "metadata": {
      "needs_background": "light"
     },
     "output_type": "display_data"
    }
   ],
   "source": [
    "fig = plt.figure(figsize=(12, 8))\n",
    "ax1 = fig.add_subplot(211)\n",
    "fig = sm.graphics.tsa.plot_acf(train['median_sale_price'].values.squeeze(), lags=40, ax=ax1)\n",
    "ax2 = fig.add_subplot(212)\n",
    "fig = sm.graphics.tsa.plot_pacf(train['median_sale_price'], lags=40, ax=ax2)\n",
    "\n"
   ]
  },
  {
   "cell_type": "code",
   "execution_count": 15,
   "id": "6a7112cd",
   "metadata": {},
   "outputs": [
    {
     "name": "stderr",
     "output_type": "stream",
     "text": [
      "C:\\Users\\zodia\\anaconda3\\lib\\site-packages\\statsmodels\\graphics\\tsaplots.py:348: FutureWarning: The default method 'yw' can produce PACF values outside of the [-1,1] interval. After 0.13, the default will change tounadjusted Yule-Walker ('ywm'). You can use this method now by setting method='ywm'.\n",
      "  warnings.warn(\n"
     ]
    },
    {
     "data": {
      "image/png": "[encoded data removed]",
      "text/plain": [
       "<Figure size 864x576 with 2 Axes>"
      ]
     },
     "metadata": {
      "needs_background": "light"
     },
     "output_type": "display_data"
    }
   ],
   "source": [
    "fig = plt.figure(figsize=(12, 8))\n",
    "ax1 = fig.add_subplot(211)\n",
    "fig = sm.graphics.tsa.plot_acf(train['diff_data'].values.squeeze(), lags=40, ax=ax1)\n",
    "ax2 = fig.add_subplot(212)\n",
    "fig = sm.graphics.tsa.plot_pacf(train['diff_data'], lags=40, ax=ax2)\n",
    "\n"
   ]
  },
  {
   "cell_type": "code",
   "execution_count": 33,
   "id": "e9c9588b",
   "metadata": {},
   "outputs": [
    {
     "data": {
      "text/plain": [
       "ARIMA(order=(0, 0, 1), scoring_args={}, suppress_warnings=True,\n",
       "      with_intercept=False)"
      ]
     },
     "execution_count": 33,
     "metadata": {},
     "output_type": "execute_result"
    }
   ],
   "source": [
    "model = pm.auto_arima(train['diff_data'], seasonal=False)\n",
    "model"
   ]
  },
  {
   "cell_type": "code",
   "execution_count": 34,
   "id": "3193a288",
   "metadata": {},
   "outputs": [
    {
     "data": {
      "text/plain": [
       "ARIMA(order=(1, 0, 0), scoring_args={}, seasonal_order=(0, 0, 1, 12),\n",
       "      suppress_warnings=True)"
      ]
     },
     "execution_count": 34,
     "metadata": {},
     "output_type": "execute_result"
    }
   ],
   "source": [
    "model3 = pm.auto_arima(train['diff_data'], seasonal=True, m=12)\n",
    "model3"
   ]
  },
  {
   "cell_type": "code",
   "execution_count": 67,
   "id": "6eed98bd",
   "metadata": {},
   "outputs": [
    {
     "name": "stdout",
     "output_type": "stream",
     "text": [
      "Performing stepwise search to minimize aic\n",
      " ARIMA(2,1,2)(1,0,1)[12] intercept   : AIC=2713.359, Time=1.10 sec\n",
      " ARIMA(0,1,0)(0,0,0)[12] intercept   : AIC=2747.337, Time=0.03 sec\n",
      " ARIMA(1,1,0)(1,0,0)[12] intercept   : AIC=2745.413, Time=0.10 sec\n",
      " ARIMA(0,1,1)(0,0,1)[12] intercept   : AIC=inf, Time=0.43 sec\n",
      " ARIMA(0,1,0)(0,0,0)[12]             : AIC=2745.354, Time=0.02 sec\n",
      " ARIMA(2,1,2)(0,0,1)[12] intercept   : AIC=inf, Time=0.74 sec\n",
      " ARIMA(2,1,2)(1,0,0)[12] intercept   : AIC=inf, Time=0.80 sec\n",
      " ARIMA(2,1,2)(2,0,1)[12] intercept   : AIC=2715.254, Time=1.93 sec\n",
      " ARIMA(2,1,2)(1,0,2)[12] intercept   : AIC=2714.888, Time=1.77 sec\n",
      " ARIMA(2,1,2)(0,0,0)[12] intercept   : AIC=2716.701, Time=0.39 sec\n",
      " ARIMA(2,1,2)(0,0,2)[12] intercept   : AIC=inf, Time=1.44 sec\n",
      " ARIMA(2,1,2)(2,0,0)[12] intercept   : AIC=inf, Time=1.44 sec\n",
      " ARIMA(2,1,2)(2,0,2)[12] intercept   : AIC=inf, Time=2.75 sec\n",
      " ARIMA(1,1,2)(1,0,1)[12] intercept   : AIC=inf, Time=0.64 sec\n",
      " ARIMA(2,1,1)(1,0,1)[12] intercept   : AIC=2710.577, Time=0.58 sec\n",
      " ARIMA(2,1,1)(0,0,1)[12] intercept   : AIC=2715.540, Time=0.43 sec\n",
      " ARIMA(2,1,1)(1,0,0)[12] intercept   : AIC=2714.612, Time=0.46 sec\n",
      " ARIMA(2,1,1)(2,0,1)[12] intercept   : AIC=2712.247, Time=1.14 sec\n",
      " ARIMA(2,1,1)(1,0,2)[12] intercept   : AIC=2711.991, Time=1.12 sec\n",
      " ARIMA(2,1,1)(0,0,0)[12] intercept   : AIC=2713.969, Time=0.22 sec\n",
      " ARIMA(2,1,1)(0,0,2)[12] intercept   : AIC=2715.895, Time=0.83 sec\n",
      " ARIMA(2,1,1)(2,0,0)[12] intercept   : AIC=2715.436, Time=1.06 sec\n",
      " ARIMA(2,1,1)(2,0,2)[12] intercept   : AIC=2713.785, Time=2.01 sec\n",
      " ARIMA(1,1,1)(1,0,1)[12] intercept   : AIC=inf, Time=0.49 sec\n",
      " ARIMA(2,1,0)(1,0,1)[12] intercept   : AIC=inf, Time=0.57 sec\n",
      " ARIMA(3,1,1)(1,0,1)[12] intercept   : AIC=2712.516, Time=0.64 sec\n",
      " ARIMA(1,1,0)(1,0,1)[12] intercept   : AIC=2746.666, Time=0.30 sec\n",
      " ARIMA(3,1,0)(1,0,1)[12] intercept   : AIC=2726.218, Time=0.52 sec\n",
      " ARIMA(3,1,2)(1,0,1)[12] intercept   : AIC=inf, Time=1.17 sec\n",
      " ARIMA(2,1,1)(1,0,1)[12]             : AIC=2715.839, Time=0.38 sec\n",
      "\n",
      "Best model:  ARIMA(2,1,1)(1,0,1)[12] intercept\n",
      "Total fit time: 25.759 seconds\n"
     ]
    },
    {
     "data": {
      "text/plain": [
       "ARIMA(order=(2, 1, 1), scoring_args={}, seasonal_order=(1, 0, 1, 12),\n",
       "      suppress_warnings=True)"
      ]
     },
     "execution_count": 67,
     "metadata": {},
     "output_type": "execute_result"
    }
   ],
   "source": [
    "model2 = pm.auto_arima(train['median_sale_price'], seasonal=True, m=12, trace=True)\n",
    "model2"
   ]
  },
  {
   "cell_type": "code",
   "execution_count": 143,
   "id": "78f9e261",
   "metadata": {},
   "outputs": [
    {
     "data": {
      "text/plain": [
       "6"
      ]
     },
     "execution_count": 143,
     "metadata": {},
     "output_type": "execute_result"
    }
   ],
   "source": [
    "valid=pd.read_csv(\"valid.csv\")\n",
    "valid.shape[0]"
   ]
  },
  {
   "cell_type": "code",
   "execution_count": 193,
   "id": "b0f5a163",
   "metadata": {},
   "outputs": [],
   "source": [
    "forecasts2 = model2.predict(valid.shape[0]) # does this fit into exisiting data or future?\n",
    "preds, conf_int = model2.predict(n_periods=valid.shape[0], return_conf_int=True)\n"
   ]
  },
  {
   "cell_type": "code",
   "execution_count": 194,
   "id": "a58059b0",
   "metadata": {},
   "outputs": [
    {
     "data": {
      "text/plain": [
       "array([229083.0002216 , 251196.95521007, 239287.04886074, 236392.96502854,\n",
       "       251149.27462108, 249444.26508786])"
      ]
     },
     "execution_count": 194,
     "metadata": {},
     "output_type": "execute_result"
    }
   ],
   "source": [
    "forecasts2"
   ]
  },
  {
   "cell_type": "code",
   "execution_count": 146,
   "id": "e036e2a2",
   "metadata": {},
   "outputs": [],
   "source": [
    "mod4 = sm.tsa.statespace.SARIMAX(train['median_sale_price'], order=(2,1,1), seasonal_order=(1,0,1,12))\n",
    "results=mod4.fit()\n",
    "forecasts4=results.forecast(valid.shape[0]) # sarimax does not have get forecast and uses predict for in sample"
   ]
  },
  {
   "cell_type": "raw",
   "id": "79f36cc9",
   "metadata": {},
   "source": [
    "from statsmodels.tsa.forecasting.stl import STLForecast"
   ]
  },
  {
   "cell_type": "code",
   "execution_count": 147,
   "id": "b99bf99c",
   "metadata": {},
   "outputs": [
    {
     "name": "stdout",
     "output_type": "stream",
     "text": [
      "                                     SARIMAX Results                                      \n",
      "==========================================================================================\n",
      "Dep. Variable:                  median_sale_price   No. Observations:                  108\n",
      "Model:             SARIMAX(2, 1, 1)x(1, 0, 1, 12)   Log Likelihood               -1351.919\n",
      "Date:                            Sun, 12 Feb 2023   AIC                           2715.839\n",
      "Time:                                    11:05:27   BIC                           2731.876\n",
      "Sample:                                         0   HQIC                          2722.340\n",
      "                                            - 108                                         \n",
      "Covariance Type:                              opg                                         \n",
      "==============================================================================\n",
      "                 coef    std err          z      P>|z|      [0.025      0.975]\n",
      "------------------------------------------------------------------------------\n",
      "ar.L1          0.3456      0.167      2.069      0.039       0.018       0.673\n",
      "ar.L2         -0.1747      0.195     -0.897      0.369      -0.556       0.207\n",
      "ma.L1         -0.9245      0.095     -9.769      0.000      -1.110      -0.739\n",
      "ar.S.L12       0.8015      3.385      0.237      0.813      -5.833       7.436\n",
      "ma.S.L12      -0.7718      3.602     -0.214      0.830      -7.831       6.287\n",
      "sigma2      6.418e+09   2.25e-09   2.85e+18      0.000    6.42e+09    6.42e+09\n",
      "===================================================================================\n",
      "Ljung-Box (L1) (Q):                   0.14   Jarque-Bera (JB):               823.65\n",
      "Prob(Q):                              0.70   Prob(JB):                         0.00\n",
      "Heteroskedasticity (H):               1.85   Skew:                             3.14\n",
      "Prob(H) (two-sided):                  0.07   Kurtosis:                        15.06\n",
      "===================================================================================\n",
      "\n",
      "Warnings:\n",
      "[1] Covariance matrix calculated using the outer product of gradients (complex-step).\n",
      "[2] Covariance matrix is singular or near-singular, with condition number 9.58e+34. Standard errors may be unstable.\n"
     ]
    }
   ],
   "source": [
    "res = mod4.fit(disp=False)\n",
    "print(res.summary())\n",
    "# null hypothesis for ljung-box is that you have no-autocorrelations. this is a fine ljung-box score. "
   ]
  },
  {
   "cell_type": "code",
   "execution_count": 64,
   "id": "eb67d0f9",
   "metadata": {},
   "outputs": [
    {
     "data": {
      "text/plain": [
       "ShapiroResult(statistic=0.6932204365730286, pvalue=1.0419397007514763e-13)"
      ]
     },
     "execution_count": 64,
     "metadata": {},
     "output_type": "execute_result"
    },
    {
     "data": {
      "image/png": "[encoded data removed]",
      "text/plain": [
       "<Figure size 432x288 with 1 Axes>"
      ]
     },
     "metadata": {
      "needs_background": "light"
     },
     "output_type": "display_data"
    }
   ],
   "source": [
    "# the residuals are supposed to normal. \n",
    "sns.histplot(res.resid)\n",
    "stats.shapiro(res.resid) # null is that the residuals are normal. "
   ]
  },
  {
   "cell_type": "code",
   "execution_count": 151,
   "id": "69aff020",
   "metadata": {},
   "outputs": [
    {
     "data": {
      "text/html": [
       "<div>\n",
       "<style scoped>\n",
       "    .dataframe tbody tr th:only-of-type {\n",
       "        vertical-align: middle;\n",
       "    }\n",
       "\n",
       "    .dataframe tbody tr th {\n",
       "        vertical-align: top;\n",
       "    }\n",
       "\n",
       "    .dataframe thead th {\n",
       "        text-align: right;\n",
       "    }\n",
       "</style>\n",
       "<table border=\"1\" class=\"dataframe\">\n",
       "  <thead>\n",
       "    <tr style=\"text-align: right;\">\n",
       "      <th></th>\n",
       "      <th>index</th>\n",
       "      <th>f2</th>\n",
       "      <th>f4</th>\n",
       "    </tr>\n",
       "  </thead>\n",
       "  <tbody>\n",
       "    <tr>\n",
       "      <th>0</th>\n",
       "      <td>108</td>\n",
       "      <td>229083.000222</td>\n",
       "      <td>203360.932442</td>\n",
       "    </tr>\n",
       "    <tr>\n",
       "      <th>1</th>\n",
       "      <td>109</td>\n",
       "      <td>251196.955210</td>\n",
       "      <td>213048.344016</td>\n",
       "    </tr>\n",
       "    <tr>\n",
       "      <th>2</th>\n",
       "      <td>110</td>\n",
       "      <td>239287.048861</td>\n",
       "      <td>223184.838131</td>\n",
       "    </tr>\n",
       "    <tr>\n",
       "      <th>3</th>\n",
       "      <td>111</td>\n",
       "      <td>236392.965029</td>\n",
       "      <td>225265.657530</td>\n",
       "    </tr>\n",
       "    <tr>\n",
       "      <th>4</th>\n",
       "      <td>112</td>\n",
       "      <td>251149.274621</td>\n",
       "      <td>220831.761421</td>\n",
       "    </tr>\n",
       "    <tr>\n",
       "      <th>5</th>\n",
       "      <td>113</td>\n",
       "      <td>249444.265088</td>\n",
       "      <td>217926.837017</td>\n",
       "    </tr>\n",
       "  </tbody>\n",
       "</table>\n",
       "</div>"
      ],
      "text/plain": [
       "   index             f2             f4\n",
       "0    108  229083.000222  203360.932442\n",
       "1    109  251196.955210  213048.344016\n",
       "2    110  239287.048861  223184.838131\n",
       "3    111  236392.965029  225265.657530\n",
       "4    112  251149.274621  220831.761421\n",
       "5    113  249444.265088  217926.837017"
      ]
     },
     "execution_count": 151,
     "metadata": {},
     "output_type": "execute_result"
    }
   ],
   "source": [
    "v_tmp"
   ]
  },
  {
   "cell_type": "code",
   "execution_count": 154,
   "id": "0f8043c9",
   "metadata": {},
   "outputs": [
    {
     "data": {
      "text/html": [
       "<div>\n",
       "<style scoped>\n",
       "    .dataframe tbody tr th:only-of-type {\n",
       "        vertical-align: middle;\n",
       "    }\n",
       "\n",
       "    .dataframe tbody tr th {\n",
       "        vertical-align: top;\n",
       "    }\n",
       "\n",
       "    .dataframe thead th {\n",
       "        text-align: right;\n",
       "    }\n",
       "</style>\n",
       "<table border=\"1\" class=\"dataframe\">\n",
       "  <thead>\n",
       "    <tr style=\"text-align: right;\">\n",
       "      <th></th>\n",
       "      <th>date</th>\n",
       "      <th>median_sale_price</th>\n",
       "      <th>homes_sold</th>\n",
       "      <th>index</th>\n",
       "      <th>f2</th>\n",
       "      <th>f4</th>\n",
       "    </tr>\n",
       "  </thead>\n",
       "  <tbody>\n",
       "    <tr>\n",
       "      <th>0</th>\n",
       "      <td>2022-01-01</td>\n",
       "      <td>194950.0</td>\n",
       "      <td>12.0</td>\n",
       "      <td>108</td>\n",
       "      <td>229083.000222</td>\n",
       "      <td>203360.932442</td>\n",
       "    </tr>\n",
       "    <tr>\n",
       "      <th>1</th>\n",
       "      <td>2022-02-01</td>\n",
       "      <td>250000.0</td>\n",
       "      <td>17.0</td>\n",
       "      <td>109</td>\n",
       "      <td>251196.955210</td>\n",
       "      <td>213048.344016</td>\n",
       "    </tr>\n",
       "    <tr>\n",
       "      <th>2</th>\n",
       "      <td>2022-03-01</td>\n",
       "      <td>362000.0</td>\n",
       "      <td>15.0</td>\n",
       "      <td>110</td>\n",
       "      <td>239287.048861</td>\n",
       "      <td>223184.838131</td>\n",
       "    </tr>\n",
       "    <tr>\n",
       "      <th>3</th>\n",
       "      <td>2022-04-01</td>\n",
       "      <td>305250.0</td>\n",
       "      <td>10.0</td>\n",
       "      <td>111</td>\n",
       "      <td>236392.965029</td>\n",
       "      <td>225265.657530</td>\n",
       "    </tr>\n",
       "    <tr>\n",
       "      <th>4</th>\n",
       "      <td>2022-05-01</td>\n",
       "      <td>285000.0</td>\n",
       "      <td>16.0</td>\n",
       "      <td>112</td>\n",
       "      <td>251149.274621</td>\n",
       "      <td>220831.761421</td>\n",
       "    </tr>\n",
       "  </tbody>\n",
       "</table>\n",
       "</div>"
      ],
      "text/plain": [
       "         date  median_sale_price  homes_sold  index             f2  \\\n",
       "0  2022-01-01           194950.0        12.0    108  229083.000222   \n",
       "1  2022-02-01           250000.0        17.0    109  251196.955210   \n",
       "2  2022-03-01           362000.0        15.0    110  239287.048861   \n",
       "3  2022-04-01           305250.0        10.0    111  236392.965029   \n",
       "4  2022-05-01           285000.0        16.0    112  251149.274621   \n",
       "\n",
       "              f4  \n",
       "0  203360.932442  \n",
       "1  213048.344016  \n",
       "2  223184.838131  \n",
       "3  225265.657530  \n",
       "4  220831.761421  "
      ]
     },
     "execution_count": 154,
     "metadata": {},
     "output_type": "execute_result"
    }
   ],
   "source": [
    "v_tmp = pd.DataFrame({ 'f2': forecasts2, 'f4': forecasts4}).reset_index("
   ]
  },
  {
   "cell_type": "code",
   "execution_count": 97,
   "id": "0ee545a6",
   "metadata": {},
   "outputs": [
    {
     "data": {
      "text/plain": [
       "<AxesSubplot:>"
      ]
     },
     "execution_count": 97,
     "metadata": {},
     "output_type": "execute_result"
    },
    {
     "data": {
      "image/png": "[encoded data removed]",
      "text/plain": [
       "<Figure size 432x288 with 1 Axes>"
      ]
     },
     "metadata": {
      "needs_background": "light"
     },
     "output_type": "display_data"
    }
   ],
   "source": [
    "# f3 is on differences. f1 clearly bad. \n",
    "sns.lineplot(data=v[['f2', 'f4', 'median_sale_price']])"
   ]
  },
  {
   "cell_type": "code",
   "execution_count": 105,
   "id": "8bf03ca3",
   "metadata": {},
   "outputs": [],
   "source": [
    "from sklearn.metrics import mean_absolute_error\n",
    "from sklearn.metrics import mean_absolute_percentage_error\n",
    "#mean_absolute_percentage_error(y_true, y_pred)"
   ]
  },
  {
   "cell_type": "code",
   "execution_count": 157,
   "id": "d1aa390a",
   "metadata": {},
   "outputs": [
    {
     "name": "stdout",
     "output_type": "stream",
     "text": [
      "mae =  47551.066972242224 64067.249054524815\n",
      "mape =  0.1588049353254663 0.2110408723129851\n"
     ]
    }
   ],
   "source": [
    " #sklearn.metrics.mean_absolute_error(y_true, y_pred, *, sample_weight=None, multioutput='uniform_average')[source]¶\n",
    "print(\"mae = \", mean_absolute_error(valid['median_sale_price'], v_tmp.f2), \n",
    "      mean_absolute_error(valid['median_sale_price'], v_tmp.f4))\n",
    "print(\"mape = \",mean_absolute_percentage_error(valid['median_sale_price'], v_tmp.f2), \n",
    "      mean_absolute_percentage_error(valid['median_sale_price'], v_tmp.f4))"
   ]
  },
  {
   "cell_type": "code",
   "execution_count": 130,
   "id": "e248ed8b",
   "metadata": {},
   "outputs": [
    {
     "data": {
      "text/plain": [
       "'2021-12-01'"
      ]
     },
     "execution_count": 130,
     "metadata": {},
     "output_type": "execute_result"
    }
   ],
   "source": [
    "train.date.iloc[-1]"
   ]
  },
  {
   "cell_type": "code",
   "execution_count": 134,
   "id": "5be472da",
   "metadata": {},
   "outputs": [
    {
     "data": {
      "text/html": [
       "<div>\n",
       "<style scoped>\n",
       "    .dataframe tbody tr th:only-of-type {\n",
       "        vertical-align: middle;\n",
       "    }\n",
       "\n",
       "    .dataframe tbody tr th {\n",
       "        vertical-align: top;\n",
       "    }\n",
       "\n",
       "    .dataframe thead th {\n",
       "        text-align: right;\n",
       "    }\n",
       "</style>\n",
       "<table border=\"1\" class=\"dataframe\">\n",
       "  <thead>\n",
       "    <tr style=\"text-align: right;\">\n",
       "      <th></th>\n",
       "      <th>date</th>\n",
       "      <th>median_sale_price</th>\n",
       "      <th>homes_sold</th>\n",
       "      <th>diff_data</th>\n",
       "      <th>predicted_mean</th>\n",
       "    </tr>\n",
       "  </thead>\n",
       "  <tbody>\n",
       "    <tr>\n",
       "      <th>0</th>\n",
       "      <td>2013-01-01</td>\n",
       "      <td>117400.0</td>\n",
       "      <td>10.0</td>\n",
       "      <td>-47600.0</td>\n",
       "      <td>0.000000</td>\n",
       "    </tr>\n",
       "    <tr>\n",
       "      <th>1</th>\n",
       "      <td>2013-02-01</td>\n",
       "      <td>149320.0</td>\n",
       "      <td>8.0</td>\n",
       "      <td>44320.0</td>\n",
       "      <td>89513.506740</td>\n",
       "    </tr>\n",
       "    <tr>\n",
       "      <th>2</th>\n",
       "      <td>2013-03-01</td>\n",
       "      <td>166000.0</td>\n",
       "      <td>11.0</td>\n",
       "      <td>12550.0</td>\n",
       "      <td>100258.585668</td>\n",
       "    </tr>\n",
       "    <tr>\n",
       "      <th>3</th>\n",
       "      <td>2013-04-01</td>\n",
       "      <td>125000.0</td>\n",
       "      <td>12.0</td>\n",
       "      <td>-14900.0</td>\n",
       "      <td>117282.301739</td>\n",
       "    </tr>\n",
       "    <tr>\n",
       "      <th>4</th>\n",
       "      <td>2013-05-01</td>\n",
       "      <td>152500.0</td>\n",
       "      <td>18.0</td>\n",
       "      <td>15050.0</td>\n",
       "      <td>101798.177550</td>\n",
       "    </tr>\n",
       "  </tbody>\n",
       "</table>\n",
       "</div>"
      ],
      "text/plain": [
       "         date  median_sale_price  homes_sold  diff_data  predicted_mean\n",
       "0  2013-01-01           117400.0        10.0   -47600.0        0.000000\n",
       "1  2013-02-01           149320.0         8.0    44320.0    89513.506740\n",
       "2  2013-03-01           166000.0        11.0    12550.0   100258.585668\n",
       "3  2013-04-01           125000.0        12.0   -14900.0   117282.301739\n",
       "4  2013-05-01           152500.0        18.0    15050.0   101798.177550"
      ]
     },
     "execution_count": 134,
     "metadata": {},
     "output_type": "execute_result"
    }
   ],
   "source": [
    "fitted=results.predict(0,108)\n",
    "t = pd.concat((train,fitted), join='inner',axis=1 )\n",
    "t.head()"
   ]
  },
  {
   "cell_type": "code",
   "execution_count": 139,
   "id": "c54e5ae7",
   "metadata": {},
   "outputs": [
    {
     "data": {
      "text/plain": [
       "<AxesSubplot:>"
      ]
     },
     "execution_count": 139,
     "metadata": {},
     "output_type": "execute_result"
    },
    {
     "data": {
      "image/png": "[encoded data removed]",
      "text/plain": [
       "<Figure size 432x288 with 1 Axes>"
      ]
     },
     "metadata": {
      "needs_background": "light"
     },
     "output_type": "display_data"
    }
   ],
   "source": [
    "sns.lineplot(data=t[['predicted_mean', 'median_sale_price']])"
   ]
  },
  {
   "cell_type": "code",
   "execution_count": 140,
   "id": "d036ede2",
   "metadata": {},
   "outputs": [],
   "source": [
    "test = pd.read_csv(\"test.csv\")"
   ]
  },
  {
   "cell_type": "code",
   "execution_count": 180,
   "id": "14638c13",
   "metadata": {},
   "outputs": [],
   "source": [
    "# combine valid and train and fit the autoarima and sarimax and make predictions\n",
    "comb = train.copy()\n",
    "comb.drop(['diff_data', 'homes_sold'], inplace=True, axis=1)\n",
    "# valid.drop('homes_sold', inplace=True, axis=1)\n",
    "comb = pd.concat([comb, valid], axis=0)\n",
    "\n"
   ]
  },
  {
   "cell_type": "code",
   "execution_count": 181,
   "id": "a52a6390",
   "metadata": {},
   "outputs": [],
   "source": [
    "comb = comb.set_index('date')"
   ]
  },
  {
   "cell_type": "code",
   "execution_count": 182,
   "id": "475892f1",
   "metadata": {},
   "outputs": [
    {
     "data": {
      "text/html": [
       "<div>\n",
       "<style scoped>\n",
       "    .dataframe tbody tr th:only-of-type {\n",
       "        vertical-align: middle;\n",
       "    }\n",
       "\n",
       "    .dataframe tbody tr th {\n",
       "        vertical-align: top;\n",
       "    }\n",
       "\n",
       "    .dataframe thead th {\n",
       "        text-align: right;\n",
       "    }\n",
       "</style>\n",
       "<table border=\"1\" class=\"dataframe\">\n",
       "  <thead>\n",
       "    <tr style=\"text-align: right;\">\n",
       "      <th></th>\n",
       "      <th>median_sale_price</th>\n",
       "    </tr>\n",
       "    <tr>\n",
       "      <th>date</th>\n",
       "      <th></th>\n",
       "    </tr>\n",
       "  </thead>\n",
       "  <tbody>\n",
       "    <tr>\n",
       "      <th>2013-01-01</th>\n",
       "      <td>117400.0</td>\n",
       "    </tr>\n",
       "    <tr>\n",
       "      <th>2013-02-01</th>\n",
       "      <td>149320.0</td>\n",
       "    </tr>\n",
       "    <tr>\n",
       "      <th>2013-03-01</th>\n",
       "      <td>166000.0</td>\n",
       "    </tr>\n",
       "    <tr>\n",
       "      <th>2013-04-01</th>\n",
       "      <td>125000.0</td>\n",
       "    </tr>\n",
       "    <tr>\n",
       "      <th>2013-05-01</th>\n",
       "      <td>152500.0</td>\n",
       "    </tr>\n",
       "  </tbody>\n",
       "</table>\n",
       "</div>"
      ],
      "text/plain": [
       "            median_sale_price\n",
       "date                         \n",
       "2013-01-01           117400.0\n",
       "2013-02-01           149320.0\n",
       "2013-03-01           166000.0\n",
       "2013-04-01           125000.0\n",
       "2013-05-01           152500.0"
      ]
     },
     "execution_count": 182,
     "metadata": {},
     "output_type": "execute_result"
    }
   ],
   "source": [
    "comb.head()"
   ]
  },
  {
   "cell_type": "code",
   "execution_count": 183,
   "id": "e71def99",
   "metadata": {},
   "outputs": [
    {
     "name": "stdout",
     "output_type": "stream",
     "text": [
      "Performing stepwise search to minimize aic\n",
      " ARIMA(2,1,2)(1,0,1)[12] intercept   : AIC=2863.761, Time=0.46 sec\n",
      " ARIMA(0,1,0)(0,0,0)[12] intercept   : AIC=2897.601, Time=0.01 sec\n",
      " ARIMA(1,1,0)(1,0,0)[12] intercept   : AIC=2895.789, Time=0.06 sec\n",
      " ARIMA(0,1,1)(0,0,1)[12] intercept   : AIC=2873.042, Time=0.08 sec\n",
      " ARIMA(0,1,0)(0,0,0)[12]             : AIC=2895.633, Time=0.01 sec\n",
      " ARIMA(2,1,2)(0,0,1)[12] intercept   : AIC=2870.392, Time=0.22 sec\n",
      " ARIMA(2,1,2)(1,0,0)[12] intercept   : AIC=2869.436, Time=0.30 sec\n",
      " ARIMA(2,1,2)(2,0,1)[12] intercept   : AIC=2865.754, Time=0.86 sec\n",
      " ARIMA(2,1,2)(1,0,2)[12] intercept   : AIC=inf, Time=0.83 sec\n",
      " ARIMA(2,1,2)(0,0,0)[12] intercept   : AIC=inf, Time=0.30 sec\n",
      " ARIMA(2,1,2)(0,0,2)[12] intercept   : AIC=inf, Time=1.13 sec\n",
      " ARIMA(2,1,2)(2,0,0)[12] intercept   : AIC=2870.218, Time=0.67 sec\n",
      " ARIMA(2,1,2)(2,0,2)[12] intercept   : AIC=inf, Time=4.30 sec\n",
      " ARIMA(1,1,2)(1,0,1)[12] intercept   : AIC=inf, Time=0.94 sec\n",
      " ARIMA(2,1,1)(1,0,1)[12] intercept   : AIC=2860.782, Time=0.57 sec\n",
      " ARIMA(2,1,1)(0,0,1)[12] intercept   : AIC=2866.725, Time=0.23 sec\n",
      " ARIMA(2,1,1)(1,0,0)[12] intercept   : AIC=2865.773, Time=0.26 sec\n",
      " ARIMA(2,1,1)(2,0,1)[12] intercept   : AIC=inf, Time=0.92 sec\n",
      " ARIMA(2,1,1)(1,0,2)[12] intercept   : AIC=2862.664, Time=0.85 sec\n",
      " ARIMA(2,1,1)(0,0,0)[12] intercept   : AIC=2865.128, Time=0.15 sec\n",
      " ARIMA(2,1,1)(0,0,2)[12] intercept   : AIC=2866.909, Time=0.44 sec\n",
      " ARIMA(2,1,1)(2,0,0)[12] intercept   : AIC=2866.642, Time=0.52 sec\n",
      " ARIMA(2,1,1)(2,0,2)[12] intercept   : AIC=inf, Time=1.25 sec\n",
      " ARIMA(1,1,1)(1,0,1)[12] intercept   : AIC=inf, Time=0.50 sec\n",
      " ARIMA(2,1,0)(1,0,1)[12] intercept   : AIC=inf, Time=0.47 sec\n",
      " ARIMA(3,1,1)(1,0,1)[12] intercept   : AIC=inf, Time=0.83 sec\n",
      " ARIMA(1,1,0)(1,0,1)[12] intercept   : AIC=2896.982, Time=0.31 sec\n",
      " ARIMA(3,1,0)(1,0,1)[12] intercept   : AIC=2875.604, Time=0.65 sec\n",
      " ARIMA(3,1,2)(1,0,1)[12] intercept   : AIC=inf, Time=1.11 sec\n",
      " ARIMA(2,1,1)(1,0,1)[12]             : AIC=2864.803, Time=0.66 sec\n",
      "\n",
      "Best model:  ARIMA(2,1,1)(1,0,1)[12] intercept\n",
      "Total fit time: 20.045 seconds\n"
     ]
    }
   ],
   "source": [
    "# fit the autoarima and make predictions\n",
    "model_aa = pm.auto_arima(comb['median_sale_price'], seasonal=True, m=12, trace=True)\n",
    "forecast_aa = model_aa.predict(test.shape[0])\n"
   ]
  },
  {
   "cell_type": "code",
   "execution_count": 184,
   "id": "ff90ed67",
   "metadata": {},
   "outputs": [
    {
     "name": "stderr",
     "output_type": "stream",
     "text": [
      "C:\\Users\\zodia\\anaconda3\\lib\\site-packages\\statsmodels\\tsa\\base\\tsa_model.py:471: ValueWarning: No frequency information was provided, so inferred frequency MS will be used.\n",
      "  self._init_dates(dates, freq)\n",
      "C:\\Users\\zodia\\anaconda3\\lib\\site-packages\\statsmodels\\tsa\\base\\tsa_model.py:471: ValueWarning: No frequency information was provided, so inferred frequency MS will be used.\n",
      "  self._init_dates(dates, freq)\n"
     ]
    }
   ],
   "source": [
    "model_sax = sm.tsa.statespace.SARIMAX(comb['median_sale_price'], order=(2,1,1), seasonal_order=(1,0,1,12))\n",
    "results_sax=model_sax.fit()\n",
    "forecast_sax=results_sax.forecast(test.shape[0]) # sarimax does not have get forecast and uses predict for in sample"
   ]
  },
  {
   "cell_type": "code",
   "execution_count": 185,
   "id": "358f7040",
   "metadata": {},
   "outputs": [
    {
     "name": "stdout",
     "output_type": "stream",
     "text": [
      "mae =  28295.026028318123 50099.380101976625\n",
      "mape =  0.10058554063451143 0.18130890953184065\n"
     ]
    }
   ],
   "source": [
    "print(\"mae = \", mean_absolute_error(test['median_sale_price'], forecast_aa), \n",
    "      mean_absolute_error(test['median_sale_price'], forecast_sax))\n",
    "print(\"mape = \",mean_absolute_percentage_error(test['median_sale_price'], forecast_aa), \n",
    "      mean_absolute_percentage_error(test['median_sale_price'], forecast_sax))"
   ]
  },
  {
   "cell_type": "code",
   "execution_count": 191,
   "id": "dc0a816b",
   "metadata": {},
   "outputs": [],
   "source": [
    "forecast_saxout=results_sax.forecast(12) \n",
    "forecast_aaout = model_aa.predict(12)\n"
   ]
  },
  {
   "cell_type": "code",
   "execution_count": 188,
   "id": "3f0f0625",
   "metadata": {},
   "outputs": [
    {
     "data": {
      "text/plain": [
       "array([269412.37656995, 265083.81233189, 274998.29163653, 271012.23053198,\n",
       "       252256.7218121 , 227245.68436421, 266762.43631608, 276899.51878952,\n",
       "       284095.90203711, 286845.72522995, 277726.21799755, 281207.68054102])"
      ]
     },
     "execution_count": 188,
     "metadata": {},
     "output_type": "execute_result"
    }
   ],
   "source": [
    "forecast_aaout"
   ]
  },
  {
   "cell_type": "code",
   "execution_count": null,
   "id": "842354bb",
   "metadata": {},
   "outputs": [],
   "source": []
  }
 ],
 "metadata": {
  "kernelspec": {
   "display_name": "Python 3 (ipykernel)",
   "language": "python",
   "name": "python3"
  },
  "language_info": {
   "codemirror_mode": {
    "name": "ipython",
    "version": 3
   },
   "file_extension": ".py",
   "mimetype": "text/x-python",
   "name": "python",
   "nbconvert_exporter": "python",
   "pygments_lexer": "ipython3",
   "version": "3.9.12"
  }
 },
 "nbformat": 4,
 "nbformat_minor": 5
}
